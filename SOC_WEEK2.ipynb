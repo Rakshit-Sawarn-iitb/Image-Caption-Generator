{
  "nbformat": 4,
  "nbformat_minor": 0,
  "metadata": {
    "colab": {
      "provenance": [],
      "include_colab_link": true
    },
    "kernelspec": {
      "name": "python3",
      "display_name": "Python 3"
    },
    "language_info": {
      "name": "python"
    }
  },
  "cells": [
    {
      "cell_type": "markdown",
      "metadata": {
        "id": "view-in-github",
        "colab_type": "text"
      },
      "source": [
        "<a href=\"https://colab.research.google.com/github/Rakshit-Sawarn-iitb/SOC/blob/main/SOC_WEEK2.ipynb\" target=\"_parent\"><img src=\"https://colab.research.google.com/assets/colab-badge.svg\" alt=\"Open In Colab\"/></a>"
      ]
    },
    {
      "cell_type": "markdown",
      "source": [
        "# **Imports**"
      ],
      "metadata": {
        "id": "dfrL6RQZEaCL"
      }
    },
    {
      "cell_type": "code",
      "execution_count": null,
      "metadata": {
        "id": "8XaAspJDEVAH"
      },
      "outputs": [],
      "source": [
        "import numpy as np\n",
        "import pandas as pd"
      ]
    },
    {
      "cell_type": "code",
      "source": [
        "rg = np.random.default_rng()"
      ],
      "metadata": {
        "id": "Bepd4D_nEmi0"
      },
      "execution_count": null,
      "outputs": []
    },
    {
      "cell_type": "code",
      "source": [
        "bias = 0.5\n",
        "lr = 0.001\n",
        "epochs = 100\n",
        "epoch_loss = []"
      ],
      "metadata": {
        "id": "HyuOZUVKG4Y5"
      },
      "execution_count": null,
      "outputs": []
    },
    {
      "cell_type": "markdown",
      "source": [
        "# **Functions**"
      ],
      "metadata": {
        "id": "x_VcggwiNdle"
      }
    },
    {
      "cell_type": "code",
      "source": [
        "def generate_data(n_features, n_values):\n",
        "  features = rg.random((n_features, n_values))\n",
        "  weights = rg.random((1,n_values))[0]\n",
        "  targets = np.random.choice([0,1], n_features)\n",
        "  data = pd.DataFrame(features, columns=[\"x0\", \"x1\", \"x2\"])\n",
        "  data[\"targets\"] = targets\n",
        "  return data, weights"
      ],
      "metadata": {
        "id": "UbbVqpM3E2Br"
      },
      "execution_count": null,
      "outputs": []
    },
    {
      "cell_type": "code",
      "source": [
        "def get_weighted_sum(feature, weights, bias):\n",
        "  return np.dot(feature, weights)+bias"
      ],
      "metadata": {
        "id": "s-1JZrvVG77K"
      },
      "execution_count": null,
      "outputs": []
    },
    {
      "cell_type": "code",
      "source": [
        "def sigmoid(x):\n",
        "  return 1/(1+np.exp(-x))"
      ],
      "metadata": {
        "id": "2iIReRebIB0h"
      },
      "execution_count": null,
      "outputs": []
    },
    {
      "cell_type": "code",
      "source": [
        "def cross_entropy(target, prediction):\n",
        "  return -target*np.log(prediction)-(1-target)*np.log(1-prediction)"
      ],
      "metadata": {
        "id": "5B2A0xCBIWTG"
      },
      "execution_count": null,
      "outputs": []
    },
    {
      "cell_type": "code",
      "source": [
        "def update_weights(weights, target, prediction, feature, lr=0.1):\n",
        "  new_weights = []\n",
        "  for x,w in zip(feature, weights):\n",
        "    new_weights.append(w+(lr*(target-prediction)*x))\n",
        "  return new_weights"
      ],
      "metadata": {
        "id": "9uJ1P7xoIsn_"
      },
      "execution_count": null,
      "outputs": []
    },
    {
      "cell_type": "code",
      "source": [
        "def update_bias(bias, target, prediction, lr=0.1):\n",
        "  return bias+(lr*(target-prediction))"
      ],
      "metadata": {
        "id": "5QQRymtqJTN3"
      },
      "execution_count": null,
      "outputs": []
    },
    {
      "cell_type": "code",
      "source": [
        "def train_model(data, weights, bias, lr = 0.1, epochs = 10):\n",
        "  for j in range(epochs):\n",
        "    individual_loss = []\n",
        "    for i in range(len(data)):\n",
        "      feature = data.loc[i][:-1]\n",
        "      target = data.loc[i][-1]\n",
        "      wsum = get_weighted_sum(feature, weights, bias)\n",
        "      prediction = sigmoid(wsum)\n",
        "      loss = cross_entropy(target, prediction)\n",
        "      individual_loss.append(loss)\n",
        "\n",
        "      #Gradient Decent\n",
        "      weights = update_weights(weights, target, prediction, feature, lr)\n",
        "      bias = update_bias(bias, target, prediction, lr)\n",
        "    average_loss = sum(individual_loss)/len(individual_loss)\n",
        "    epoch_loss.append(average_loss)\n",
        "    print(f\"Epoch {j+1} Loss: {average_loss}\")"
      ],
      "metadata": {
        "id": "-hxo23LYKYfc"
      },
      "execution_count": null,
      "outputs": []
    },
    {
      "cell_type": "markdown",
      "source": [
        "# **Generate Dataset**"
      ],
      "metadata": {
        "id": "D-isuLmhNiYt"
      }
    },
    {
      "cell_type": "code",
      "source": [
        "data, weights = generate_data(50, 3)"
      ],
      "metadata": {
        "id": "qhL-2YkyGr-f"
      },
      "execution_count": null,
      "outputs": []
    },
    {
      "cell_type": "markdown",
      "source": [
        "# **Training the model**"
      ],
      "metadata": {
        "id": "5Juuha26NnVk"
      }
    },
    {
      "cell_type": "code",
      "source": [
        "train_model(data, weights, bias, lr, epochs)"
      ],
      "metadata": {
        "colab": {
          "base_uri": "https://localhost:8080/"
        },
        "id": "tw5HMH0THYLP",
        "outputId": "2f917dc0-56db-481c-f1f4-1183bad18583"
      },
      "execution_count": null,
      "outputs": [
        {
          "output_type": "stream",
          "name": "stdout",
          "text": [
            "Epoch 1 Loss: 0.8442281748789785\n",
            "Epoch 2 Loss: 0.8379942375015372\n",
            "Epoch 3 Loss: 0.8319715121353036\n",
            "Epoch 4 Loss: 0.826154888169687\n",
            "Epoch 5 Loss: 0.8205392311788224\n",
            "Epoch 6 Loss: 0.815119394782683\n",
            "Epoch 7 Loss: 0.8098902319460435\n",
            "Epoch 8 Loss: 0.8048466056881297\n",
            "Epoch 9 Loss: 0.7999833991821685\n",
            "Epoch 10 Loss: 0.7952955252301787\n",
            "Epoch 11 Loss: 0.7907779351040474\n",
            "Epoch 12 Loss: 0.7864256267492682\n",
            "Epoch 13 Loss: 0.7822336523526237\n",
            "Epoch 14 Loss: 0.7781971252795137\n",
            "Epoch 15 Loss: 0.7743112263906505\n",
            "Epoch 16 Loss: 0.7705712097513525\n",
            "Epoch 17 Loss: 0.76697240774975\n",
            "Epoch 18 Loss: 0.7635102356428577\n",
            "Epoch 19 Loss: 0.7601801955516712\n",
            "Epoch 20 Loss: 0.7569778799282652\n",
            "Epoch 21 Loss: 0.7538989745192797\n",
            "Epoch 22 Loss: 0.7509392608512842\n",
            "Epoch 23 Loss: 0.7480946182642247\n",
            "Epoch 24 Loss: 0.7453610255196446\n",
            "Epoch 25 Loss: 0.7427345620105251\n",
            "Epoch 26 Loss: 0.740211408599571\n",
            "Epoch 27 Loss: 0.7377878481124652\n",
            "Epoch 28 Loss: 0.7354602655122144\n",
            "Epoch 29 Loss: 0.7332251477800633\n",
            "Epoch 30 Loss: 0.7310790835277544\n",
            "Epoch 31 Loss: 0.7290187623650501\n",
            "Epoch 32 Loss: 0.7270409740455059\n",
            "Epoch 33 Loss: 0.7251426074124946\n",
            "Epoch 34 Loss: 0.7233206491664164\n",
            "Epoch 35 Loss: 0.7215721824729695\n",
            "Epoch 36 Loss: 0.7198943854312231\n",
            "Epoch 37 Loss: 0.7182845294191561\n",
            "Epoch 38 Loss: 0.7167399773331892\n",
            "Epoch 39 Loss: 0.7152581817371505\n",
            "Epoch 40 Loss: 0.7138366829350495\n",
            "Epoch 41 Loss: 0.7124731069809609\n",
            "Epoch 42 Loss: 0.7111651636383265\n",
            "Epoch 43 Loss: 0.7099106442999817\n",
            "Epoch 44 Loss: 0.7087074198792817\n",
            "Epoch 45 Loss: 0.7075534386818008\n",
            "Epoch 46 Loss: 0.7064467242662196\n",
            "Epoch 47 Loss: 0.705385373302206\n",
            "Epoch 48 Loss: 0.7043675534323306\n",
            "Epoch 49 Loss: 0.7033915011443354\n",
            "Epoch 50 Loss: 0.7024555196593992\n",
            "Epoch 51 Loss: 0.7015579768414166\n",
            "Epoch 52 Loss: 0.7006973031317145\n",
            "Epoch 53 Loss: 0.6998719895130908\n",
            "Epoch 54 Loss: 0.6990805855065443\n",
            "Epoch 55 Loss: 0.6983216972036168\n",
            "Epoch 56 Loss: 0.6975939853368167\n",
            "Epoch 57 Loss: 0.6968961633902201\n",
            "Epoch 58 Loss: 0.6962269957519723\n",
            "Epoch 59 Loss: 0.6955852959100871\n",
            "Epoch 60 Loss: 0.6949699246926478\n",
            "Epoch 61 Loss: 0.6943797885532361\n",
            "Epoch 62 Loss: 0.6938138379021688\n",
            "Epoch 63 Loss: 0.6932710654839159\n",
            "Epoch 64 Loss: 0.692750504800856\n",
            "Epoch 65 Loss: 0.6922512285833627\n",
            "Epoch 66 Loss: 0.6917723473060561\n",
            "Epoch 67 Loss: 0.69131300774991\n",
            "Epoch 68 Loss: 0.690872391609786\n",
            "Epoch 69 Loss: 0.6904497141468561\n",
            "Epoch 70 Loss: 0.6900442228852921\n",
            "Epoch 71 Loss: 0.6896551963525007\n",
            "Epoch 72 Loss: 0.689281942862134\n",
            "Epoch 73 Loss: 0.6889237993390335\n",
            "Epoch 74 Loss: 0.6885801301852239\n",
            "Epoch 75 Loss: 0.6882503261860349\n",
            "Epoch 76 Loss: 0.6879338034553858\n",
            "Epoch 77 Loss: 0.6876300024192598\n",
            "Epoch 78 Loss: 0.6873383868363621\n",
            "Epoch 79 Loss: 0.6870584428549514\n",
            "Epoch 80 Loss: 0.6867896781048257\n",
            "Epoch 81 Loss: 0.6865316208234362\n",
            "Epoch 82 Loss: 0.6862838190151112\n",
            "Epoch 83 Loss: 0.686045839642367\n",
            "Epoch 84 Loss: 0.6858172678483033\n",
            "Epoch 85 Loss: 0.6855977062090785\n",
            "Epoch 86 Loss: 0.6853867740154773\n",
            "Epoch 87 Loss: 0.6851841065826081\n",
            "Epoch 88 Loss: 0.6849893545867629\n",
            "Epoch 89 Loss: 0.6848021834285138\n",
            "Epoch 90 Loss: 0.6846222726211185\n",
            "Epoch 91 Loss: 0.6844493152033493\n",
            "Epoch 92 Loss: 0.6842830171758573\n",
            "Epoch 93 Loss: 0.6841230969602253\n",
            "Epoch 94 Loss: 0.6839692848798771\n",
            "Epoch 95 Loss: 0.6838213226620256\n",
            "Epoch 96 Loss: 0.6836789629598867\n",
            "Epoch 97 Loss: 0.6835419688943801\n",
            "Epoch 98 Loss: 0.6834101136145868\n",
            "Epoch 99 Loss: 0.683283179876241\n",
            "Epoch 100 Loss: 0.6831609596375582\n"
          ]
        }
      ]
    },
    {
      "cell_type": "markdown",
      "source": [
        "# **Visual Analysis**"
      ],
      "metadata": {
        "id": "Ftbjbt4BNsYD"
      }
    },
    {
      "cell_type": "code",
      "source": [
        "df = pd.DataFrame(epoch_loss)\n",
        "df_plot = df.plot(kind = \"line\", grid = True).get_figure()\n",
        "df_plot.savefig(\"loss.png\")"
      ],
      "metadata": {
        "colab": {
          "base_uri": "https://localhost:8080/",
          "height": 430
        },
        "id": "hJ-49VRoMLCu",
        "outputId": "1be2ad85-7953-4844-d8b1-26bae94efa4a"
      },
      "execution_count": null,
      "outputs": [
        {
          "output_type": "display_data",
          "data": {
            "text/plain": [
              "<Figure size 640x480 with 1 Axes>"
            ],
            "image/png": "[encoded data removed]"
          },
          "metadata": {}
        }
      ]
    }
  ]
}